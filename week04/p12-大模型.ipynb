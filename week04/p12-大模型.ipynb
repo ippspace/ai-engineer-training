{
 "cells": [
  {
   "cell_type": "markdown",
   "id": "98393de4",
   "metadata": {},
   "source": [
    "## 自定义大模型接口"
   ]
  },
  {
   "cell_type": "code",
   "execution_count": null,
   "id": "a45e0229",
   "metadata": {
    "vscode": {
     "languageId": "plaintext"
    }
   },
   "outputs": [],
   "source": [
    "大模型接口：\n",
    "\n",
    "实际工作中，我们会使用私有部署的大模型，因此需要掌握自定义的参数\n"
   ]
  }
 ],
 "metadata": {
  "language_info": {
   "name": "python"
  }
 },
 "nbformat": 4,
 "nbformat_minor": 5
}
